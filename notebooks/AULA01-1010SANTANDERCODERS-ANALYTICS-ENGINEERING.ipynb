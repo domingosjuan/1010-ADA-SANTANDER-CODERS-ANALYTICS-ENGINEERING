{
 "cells": [
  {
   "cell_type": "markdown",
   "metadata": {},
   "source": [
    "# SANTANDER CODERS 1010 - ANALYTICS ENGINEERING"
   ]
  },
  {
   "cell_type": "markdown",
   "metadata": {},
   "source": [
    "## AULA 01"
   ]
  },
  {
   "cell_type": "markdown",
   "metadata": {},
   "source": [
    "\n",
    "![Data Sources](https://skab-beratung.de/wp-content/uploads/2021/11/cropped-12-9.jpg)\n",
    "\n",
    "Fonte:  Autor Desconhecido"
   ]
  },
  {
   "cell_type": "markdown",
   "metadata": {},
   "source": [
    "O advento da produção de dados em massa gerou cenários que careciam de uma atenção especial, tais como:\n",
    "\n",
    "- Presença de Dados Estruturados e Não Estruturados\n",
    "- Diferentes times consumindo os dados\n",
    "- Diferentes Finalidades para tais dados"
   ]
  },
  {
   "cell_type": "markdown",
   "metadata": {},
   "source": [
    "## E se os Times de Dados fossem um Time de Futebol ?"
   ]
  },
  {
   "cell_type": "markdown",
   "metadata": {},
   "source": [
    "![Data Team](https://pbs.twimg.com/media/FS-MrDDXwAIupzW.jpg)\n",
    "\n",
    "Fonte: Incidium Tech on X (Twitter). Link: https://twitter.com/indicium_tech/status/1526593472387588096"
   ]
  },
  {
   "cell_type": "markdown",
   "metadata": {},
   "source": [
    "## Diferentes Necessidades\n",
    "\n",
    " - Dados Tabulares\n",
    " - Dados Matriciados\n",
    " - Dados Modelados\n",
    "\n",
    " ### E como ficam os times de Engenharia de Dados ?\n",
    " \n",
    "  "
   ]
  },
  {
   "cell_type": "markdown",
   "metadata": {},
   "source": [
    "## 4 V's do Big Data\n",
    "\n",
    "- Volume\n",
    "- Variedade\n",
    "- Velocidade\n",
    "- Veracidade\n",
    "\n",
    "Obs: **Com as evoluções recentes podemos ver em alguns lugares menções a até 7 Vs que incluem: Velocidade, Veracidade, Volume, Valor, Visualização, Variabilidade e Variedade.**"
   ]
  },
  {
   "cell_type": "markdown",
   "metadata": {},
   "source": [
    "## Data Lake e Data Warehouses\n",
    "\n",
    "São soluções Voltadas para o armazenamento de dados, buscando atender aos clientes internos e externos das organizações de acordo com suas necessidades, podemos dizer que o primeiro é uma espécie de evolução do segundo, onde a ideia é democratizar o acesso aos dados entre os diferentes contextos de uma organização, então neste primeiro momento, vamos focar um pouco mais em nosso Data Lake\n",
    "\n",
    "\n",
    "### Pontos Chaves que o Data Lake se Propõe a Resolver\n",
    "\n",
    "- Armazenar uma grande variedade de dados\n",
    "\n",
    "- Armazenamento de dados brutos\n",
    "\n",
    "- Democratizar o acesso aos dados\n",
    "\n",
    "- Otimização de custos de armazenamento\n"
   ]
  },
  {
   "cell_type": "markdown",
   "metadata": {},
   "source": [
    "## Onde moram estes animais fantásticos chamados Data Lakes ?"
   ]
  },
  {
   "cell_type": "markdown",
   "metadata": {},
   "source": [
    "![Data Lake Storages](https://github.com/domingosjuan/1010-ADA-SANTANDER-CODERS-ANALYTICS-ENGINEERING/blob/main/images/cloud%20technologies.drawio.png?raw=true)"
   ]
  },
  {
   "cell_type": "markdown",
   "metadata": {
    "tags": []
   },
   "source": [
    "## Com um Ferramenta/Padrão de Armazenamento tão Poderoso, Surgem Problemas de Organização"
   ]
  },
  {
   "cell_type": "markdown",
   "metadata": {
    "tags": []
   },
   "source": [
    "E neste contexto é que entra a harmonização de camadas"
   ]
  },
  {
   "cell_type": "markdown",
   "metadata": {
    "tags": []
   },
   "source": [
    "![Organização de Estruturas de Armazenamento](https://miro.medium.com/v2/resize:fit:720/format:webp/1*O4ey_K0ZbsESf8na7OirJg.jpeg)\n",
    "\n",
    "Referencia: Medallion architecture: best practices for managing Bronze, Silver and Gold | by Piethein Strengholt | Medium. Disponível em: https://www.google.com/url?sa=i&url=https%3A%2F%2Fpiethein.medium.com%2Fmedallion-architecture-best-practices-for-managing-bronze-silver-and-gold-486de7c90055&psig=AOvVaw3JEq7OzcPmP3r0F8P2aVC9&ust=1694895201318000&source=images&cd=vfe&opi=89978449&ved=0CBIQjhxqFwoTCNiqkfW2rYEDFQAAAAAdAAAAABAZ"
   ]
  },
  {
   "cell_type": "markdown",
   "metadata": {},
   "source": [
    "## Camadas de um Data Lake\n",
    "\n",
    "- **Bronze**: Responsável por Armazenar o dado em sua forma bruta, ou seja, sem tratamento prévio, com o formato ao qual fora gerado\n",
    "- **Silver**: Aqui podemos armazenar dados com transformações mais simples, como:\n",
    "    - Tabulação\n",
    "    - Limpeza\n",
    "    - Filtros\n",
    "- **Gold**: Dado Pronto para atender as necessidades de negócio"
   ]
  },
  {
   "cell_type": "markdown",
   "metadata": {},
   "source": [
    "# Associação de Times com cada Camada\n",
    "\n",
    "- Bronze\n",
    "    - Engenharia de Dados\n",
    "    - Ciência de Dados\n",
    "- Silver\n",
    "    - Ciência de Dados\n",
    "    - Analytics Engineering\n",
    "    - Data Analytics\n",
    "- Gold\n",
    "    - Data Analytics\n",
    "    - BI"
   ]
  },
  {
   "cell_type": "markdown",
   "metadata": {},
   "source": [
    "# Criando Nossa Primeira Estrutura de Harmonização"
   ]
  },
  {
   "cell_type": "code",
   "execution_count": null,
   "metadata": {},
   "outputs": [],
   "source": []
  }
 ],
 "metadata": {
  "kernelspec": {
   "display_name": "Python 3 (ipykernel)",
   "language": "python",
   "name": "python3"
  },
  "language_info": {
   "codemirror_mode": {
    "name": "ipython",
    "version": 3
   },
   "file_extension": ".py",
   "mimetype": "text/x-python",
   "name": "python",
   "nbconvert_exporter": "python",
   "pygments_lexer": "ipython3",
   "version": "3.10.10"
  }
 },
 "nbformat": 4,
 "nbformat_minor": 4
}
