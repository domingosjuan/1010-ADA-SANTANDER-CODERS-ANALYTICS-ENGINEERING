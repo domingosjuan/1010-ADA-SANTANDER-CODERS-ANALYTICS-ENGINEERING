{
 "cells": [
  {
   "cell_type": "markdown",
   "id": "3b4cb112-7c53-46bb-9cbd-8eae47309291",
   "metadata": {},
   "source": [
    "# SANTANDER CODERS 1010 - ANALYTICS ENGINEERING"
   ]
  },
  {
   "cell_type": "markdown",
   "id": "6f3d90e6-7293-4d38-8222-5dc3feb0f1ea",
   "metadata": {},
   "source": [
    "## AULA 03"
   ]
  },
  {
   "cell_type": "markdown",
   "id": "36b9f571-7f88-444f-937a-667d763abb43",
   "metadata": {},
   "source": [
    "## Adequando o Armazenamento dos Nossos Dados às Necessidades de Nossos Clientes"
   ]
  },
  {
   "cell_type": "markdown",
   "id": "9db1c7c8-54a9-4e5c-b4a0-e02458c889cb",
   "metadata": {},
   "source": [
    "Quando falamos em servir dados com qualidade, contextualizados e confiáveis, temos mais uma variável a ser considerada, a **latência**, sendo assim é obrigação dos engenheiros de Analytics estudar qual a melhor solução para atender a necessidade de seus clientes. "
   ]
  },
  {
   "cell_type": "markdown",
   "id": "ff200235-a251-49b2-bf99-8b1f8bd28f96",
   "metadata": {},
   "source": [
    "## Vejamos o Seguinte Exmeplo"
   ]
  },
  {
   "cell_type": "markdown",
   "id": "98996020-9214-4764-b7b5-a0699911a3ef",
   "metadata": {},
   "source": [
    "![Database Latency Diagram](https://github.com/domingosjuan/1010-ADA-SANTANDER-CODERS-ANALYTICS-ENGINEERING/blob/main/images/database-latency-diagram.drawio.png?raw=true)\n",
    "\n",
    "Fonte: **Professor Juan Domingos Ada Tech**"
   ]
  },
  {
   "cell_type": "markdown",
   "id": "e4da1ae0-ff6c-4d9b-be02-b240d20edbdf",
   "metadata": {},
   "source": [
    "## E como fica a organização de nosso banco de dados nesse sentido ?\n",
    "\n",
    "Seguimos com as mesmas premissas, mas vale lembrar que em ambientes reais, os dados presentes em sistemas de baixa latência, tender a ser os dados já com algum nível de especialização, ou pelo menos normalizados para um formato tabular."
   ]
  },
  {
   "cell_type": "markdown",
   "id": "d90ddf49-d3ac-4a48-8989-86a5a2b5ad41",
   "metadata": {},
   "source": [
    "## E quais Tecnologias me Permitem Fazer este Tipo de Trabalho ?"
   ]
  },
  {
   "cell_type": "markdown",
   "id": "91c47beb-9801-474b-9c82-8742ad6ec152",
   "metadata": {},
   "source": [
    "Algumas tecnologias de mercado que podem ser mencionadas para este propósito são:\n",
    "\n",
    "- Bancos de Dados Relacionais Configurados para um Modelo OLAP (Veremos um Pouco mais adiante)\n",
    "- Sistemas de Warehousing gerenciados como por exemplo:\n",
    "    - Redshift\n",
    "    - BigQuery\n",
    "    - Snowflake\n",
    "- Bancos de dados de cacheamento e indexação\n",
    "    - ElasticSearch\n",
    "    - Redis\n",
    "    "
   ]
  }
 ],
 "metadata": {
  "kernelspec": {
   "display_name": "Python 3 (ipykernel)",
   "language": "python",
   "name": "python3"
  },
  "language_info": {
   "codemirror_mode": {
    "name": "ipython",
    "version": 3
   },
   "file_extension": ".py",
   "mimetype": "text/x-python",
   "name": "python",
   "nbconvert_exporter": "python",
   "pygments_lexer": "ipython3",
   "version": "3.10.10"
  }
 },
 "nbformat": 4,
 "nbformat_minor": 5
}
