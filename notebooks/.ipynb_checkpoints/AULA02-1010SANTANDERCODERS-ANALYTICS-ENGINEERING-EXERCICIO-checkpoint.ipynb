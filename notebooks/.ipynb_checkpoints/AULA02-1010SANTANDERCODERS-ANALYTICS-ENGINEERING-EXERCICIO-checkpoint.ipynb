{
 "cells": [
  {
   "cell_type": "markdown",
   "id": "8ab2a2f4-f045-4881-83a0-df5512332535",
   "metadata": {},
   "source": [
    "# Aula 02 - SANTANDER CODERS ANALYTICS ENGINEERING"
   ]
  },
  {
   "cell_type": "markdown",
   "id": "9ce20c1d-2a9d-4e5d-8eaa-6e34e6f3270f",
   "metadata": {},
   "source": [
    "## Exercício - Preparando nossos Dados de Acordo com a Necessidade"
   ]
  },
  {
   "cell_type": "markdown",
   "id": "58f6369e-853b-4d9b-bf0e-899e6a02ddf8",
   "metadata": {},
   "source": [
    "1 - Após resolver com maestria o último problema apresentado por sua companhia é hora de um novo desafio, com base nos dados de previsão do tempo atual, a empresa em que você trabalha espera construir um modelo de dados para atender as áreas de analytics e BI que permitam extrair as seguintes métricas:\n",
    "\n",
    "- Qual o comportamento real do clima nas últimas 24 horas ?\n",
    "- Quais os alerta vigentes emitidos pela instituição climatempo ?\n",
    "\n",
    "Para isso, aplique as técnicas de limpeza e organização dados aprendidas durante a Aula 02 de nosso módulo.\n",
    "\n",
    "**Lembre-se**: Um dado bem modelo e adequado a necessidade fornece uma melhor performance de consumo e maior eficiência operacial\n",
    "\n",
    "**Insumos para o Desenvolvimento do Exercício**\n",
    "\n",
    "- Endpoint para obter o clima atual: http://apiadvisor.climatempo.com.br/api/v1/weather/locale/3477/current?token=your-app-token\n",
    "- Endpoint para obter alertas: http://apiadvisor.climatempo.com.br/api/v1/monitoring/alerts?token=your-app-token"
   ]
  },
  {
   "cell_type": "code",
   "execution_count": null,
   "id": "2cc17138-c9f9-4c41-a440-3d30b129248f",
   "metadata": {},
   "outputs": [],
   "source": []
  }
 ],
 "metadata": {
  "kernelspec": {
   "display_name": "Python 3 (ipykernel)",
   "language": "python",
   "name": "python3"
  },
  "language_info": {
   "codemirror_mode": {
    "name": "ipython",
    "version": 3
   },
   "file_extension": ".py",
   "mimetype": "text/x-python",
   "name": "python",
   "nbconvert_exporter": "python",
   "pygments_lexer": "ipython3",
   "version": "3.10.10"
  }
 },
 "nbformat": 4,
 "nbformat_minor": 5
}
