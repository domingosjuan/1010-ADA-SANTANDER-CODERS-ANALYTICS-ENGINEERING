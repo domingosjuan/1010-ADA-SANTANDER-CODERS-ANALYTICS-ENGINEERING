{
 "cells": [
  {
   "cell_type": "markdown",
   "id": "3b4cb112-7c53-46bb-9cbd-8eae47309291",
   "metadata": {},
   "source": [
    "# SANTANDER CODERS 1010 - ANALYTICS ENGINEERING"
   ]
  },
  {
   "cell_type": "markdown",
   "id": "6f3d90e6-7293-4d38-8222-5dc3feb0f1ea",
   "metadata": {},
   "source": [
    "## AULA 03"
   ]
  },
  {
   "cell_type": "markdown",
   "id": "36b9f571-7f88-444f-937a-667d763abb43",
   "metadata": {},
   "source": [
    "## Adequando o Armazenamento dos Nossos Dados às Necessidades de Nossos Clientes"
   ]
  },
  {
   "cell_type": "code",
   "execution_count": null,
   "id": "3fc866b6-c1e7-45fb-bd05-3f5edfe3c82f",
   "metadata": {},
   "outputs": [],
   "source": []
  }
 ],
 "metadata": {
  "kernelspec": {
   "display_name": "Python 3 (ipykernel)",
   "language": "python",
   "name": "python3"
  },
  "language_info": {
   "codemirror_mode": {
    "name": "ipython",
    "version": 3
   },
   "file_extension": ".py",
   "mimetype": "text/x-python",
   "name": "python",
   "nbconvert_exporter": "python",
   "pygments_lexer": "ipython3",
   "version": "3.10.10"
  }
 },
 "nbformat": 4,
 "nbformat_minor": 5
}
