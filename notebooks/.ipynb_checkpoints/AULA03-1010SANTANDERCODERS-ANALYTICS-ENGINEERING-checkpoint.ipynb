{
 "cells": [
  {
   "cell_type": "markdown",
   "id": "3b4cb112-7c53-46bb-9cbd-8eae47309291",
   "metadata": {},
   "source": [
    "# SANTANDER CODERS 1010 - ANALYTICS ENGINEERING"
   ]
  },
  {
   "cell_type": "markdown",
   "id": "6f3d90e6-7293-4d38-8222-5dc3feb0f1ea",
   "metadata": {},
   "source": [
    "## AULA 03"
   ]
  },
  {
   "cell_type": "markdown",
   "id": "36b9f571-7f88-444f-937a-667d763abb43",
   "metadata": {},
   "source": [
    "## Adequando o Armazenamento dos Nossos Dados às Necessidades de Nossos Clientes"
   ]
  },
  {
   "cell_type": "markdown",
   "id": "9db1c7c8-54a9-4e5c-b4a0-e02458c889cb",
   "metadata": {},
   "source": [
    "Quando falamos em servir dados com qualidade, contextualizados e confiáveis, temos mais uma variável a ser considerada, a **latência**, sendo assim é obrigação dos engenheiros de Analytics estudar qual a melhor solução para atender a necessidade de seus clientes. "
   ]
  },
  {
   "cell_type": "markdown",
   "id": "ff200235-a251-49b2-bf99-8b1f8bd28f96",
   "metadata": {},
   "source": [
    "## Vejamos o Seguinte Exmeplo"
   ]
  },
  {
   "cell_type": "markdown",
   "id": "98996020-9214-4764-b7b5-a0699911a3ef",
   "metadata": {},
   "source": [
    "![Database Latency Diagram](https://github.com/domingosjuan/1010-ADA-SANTANDER-CODERS-ANALYTICS-ENGINEERING/blob/main/images/database-latency-diagram.drawio.png?raw=true)\n",
    "\n",
    "Fonte: **Professor Juan Domingos Ada Tech**"
   ]
  },
  {
   "cell_type": "markdown",
   "id": "e4da1ae0-ff6c-4d9b-be02-b240d20edbdf",
   "metadata": {},
   "source": [
    "## E como fica a organização de nosso banco de dados nesse sentido ?\n",
    "\n",
    "Seguimos com as mesmas premissas, mas vale lembrar que em ambientes reais, os dados presentes em sistemas de baixa latência, tender a ser os dados já com algum nível de especialização, ou pelo menos normalizados para um formato tabular."
   ]
  },
  {
   "cell_type": "markdown",
   "id": "d90ddf49-d3ac-4a48-8989-86a5a2b5ad41",
   "metadata": {},
   "source": [
    "## E quais Tecnologias me Permitem Fazer este Tipo de Trabalho ?"
   ]
  },
  {
   "cell_type": "markdown",
   "id": "f4648909-3989-4ad2-979e-9f6b0b423d80",
   "metadata": {},
   "source": [
    "![DB Technologies](https://github.com/domingosjuan/1010-ADA-SANTANDER-CODERS-ANALYTICS-ENGINEERING/blob/main/images/db-technologies.drawio.png?raw=true)\n",
    "\n",
    "Fonte: **Professor Juan Domingos Ada Tech**"
   ]
  },
  {
   "cell_type": "markdown",
   "id": "91c47beb-9801-474b-9c82-8742ad6ec152",
   "metadata": {},
   "source": [
    "Algumas tecnologias de mercado que podem ser mencionadas para este propósito são:\n",
    "\n",
    "- Bancos de Dados Relacionais Configurados para um Modelo OLAP (Veremos um Pouco mais adiante)\n",
    "- Sistemas de Warehousing gerenciados como por exemplo:\n",
    "    - Redshift\n",
    "    - BigQuery\n",
    "    - Snowflake\n",
    "- Bancos de dados de cacheamento e indexação\n",
    "    - ElasticSearch\n",
    "    - Redis\n",
    "    "
   ]
  },
  {
   "cell_type": "markdown",
   "id": "6dde120f-2ce8-4595-b43f-01c5044ffac8",
   "metadata": {},
   "source": [
    "# Vamos Criar Nosso DB para Atender nossos Clientes de Baixa Latência"
   ]
  },
  {
   "cell_type": "markdown",
   "id": "5838a237-0fe6-4f2b-a91f-7642556a2136",
   "metadata": {},
   "source": [
    "Para isso, ciraremos uma instância PostgreSQL. Para tal iremos utilizar o serviço Elephant SQL, é um serviço que fornece um banco de dados gratuito sem a necessidade de adicionarmos cartão de crédito.\n",
    "\n",
    "\n",
    "Link do Produto: https://www.elephantsql.com/\n",
    "\n",
    "Vamos Criar uma Instância do Tipo **Tiny Turtle**, que em nosso caso será utilizado apenas para os testes aos quais desejamos executar"
   ]
  },
  {
   "cell_type": "markdown",
   "id": "8d4462f8-b4d2-48f5-b307-fb6f8cc0dea0",
   "metadata": {},
   "source": [
    "## Conectando em Nosso Banco de Dados Utilizando um SQL Client"
   ]
  },
  {
   "cell_type": "markdown",
   "id": "8bb313e5-d0ee-496d-9d64-e79ace68bda9",
   "metadata": {},
   "source": [
    "Para este processo, vamos utilizar o client DBeaver, que pode ser baixado através do links:\n",
    "\n",
    "- Windows: https://dbeaver.io/files/dbeaver-ce-latest-x86_64-setup.exe\n",
    "- Mac: \n",
    "    - Processadores Apple (M1 & M2): https://dbeaver.io/files/dbeaver-ce-latest-macos-aarch64.dmg\n",
    "    - Processadores Intel: https://dbeaver.io/files/dbeaver-ce-latest-macos-x86_64.dmg\n",
    "- Linux:\n",
    "    - Debian: https://dbeaver.io/files/dbeaver-ce_latest_amd64.deb\n",
    "    - RPM: https://dbeaver.io/files/dbeaver-ce-latest-stable.x86_64.rpm"
   ]
  },
  {
   "cell_type": "markdown",
   "id": "885d5e7c-bd56-450c-90ce-504af981c60e",
   "metadata": {},
   "source": [
    "# Conectando em Nosso Banco de Dados Utilizando PySpark\n",
    "\n",
    "JDBC PostgreSQL Driver: https://mvnrepository.com/artifact/org.postgresql/postgresql/42.6.0\n",
    "\n",
    "\n",
    "## Lendo Dados\n",
    "\n",
    "Para realizar esta conexão precisamos definir as seguintes options em nosso spark reader:\n",
    "\n",
    "\n",
    "- driver: Referencia para a classe do driver que estamos utilizando, no nosso caso com PostgreSQL esse valor é o valor é **org.postgresql.Driver**\n",
    "- url: Conection String no Padrão JDBC para nosso banco PostgreSQL, seguindo a seguinte estrutura: jdbc:postgresql://{server-name}:{server-port}/{database-name}\n",
    "- user: Usuário do Nosso Banco de Dados\n",
    "- password: Senha do Nosso Usuário\n",
    "\n",
    "\n",
    "- dbtable: Nome da tabela, deve ser fornecido na ausência do parâmetro query\n",
    "- query: Query de consulta ao banco de dados, deve ser informado na ausência do DB Table"
   ]
  },
  {
   "cell_type": "code",
   "execution_count": null,
   "id": "1c09dddb-df12-4cdc-9b50-e868460a47f3",
   "metadata": {},
   "outputs": [],
   "source": []
  },
  {
   "cell_type": "code",
   "execution_count": null,
   "id": "9173b22e-c7db-4fa3-9a91-f7fe336f2347",
   "metadata": {},
   "outputs": [],
   "source": []
  }
 ],
 "metadata": {
  "kernelspec": {
   "display_name": "Python 3 (ipykernel)",
   "language": "python",
   "name": "python3"
  },
  "language_info": {
   "codemirror_mode": {
    "name": "ipython",
    "version": 3
   },
   "file_extension": ".py",
   "mimetype": "text/x-python",
   "name": "python",
   "nbconvert_exporter": "python",
   "pygments_lexer": "ipython3",
   "version": "3.10.10"
  }
 },
 "nbformat": 4,
 "nbformat_minor": 5
}
