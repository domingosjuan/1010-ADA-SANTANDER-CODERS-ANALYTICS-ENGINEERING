{
 "cells": [
  {
   "cell_type": "markdown",
   "id": "86e14faa-8169-4436-b9cb-b507c5503866",
   "metadata": {
    "tags": []
   },
   "source": [
    "# SANTANDER CODERS 1010 - ANALYTICS ENGINEERING"
   ]
  },
  {
   "cell_type": "markdown",
   "id": "a803e0d9-e419-4a22-8c38-125020d78b95",
   "metadata": {},
   "source": [
    "## AULA 02"
   ]
  },
  {
   "cell_type": "markdown",
   "id": "9382d1ff-6006-40c8-b8da-b9ba10ec2a0a",
   "metadata": {},
   "source": [
    "### Modelando e Agregando Valor aos Nosso Dados"
   ]
  },
  {
   "cell_type": "markdown",
   "id": "734f6ad9-eb69-4032-bf47-bd0f32866e20",
   "metadata": {},
   "source": [
    "### Relembrando alguns desafios no consumo de dados por diferentes clientes\n",
    "\n",
    "- Presença de Dados Estruturados e Não Estruturados\n",
    "- Diferentes times consumindo os dados\n",
    "- Diferentes Finalidades para tais dados"
   ]
  }
 ],
 "metadata": {
  "kernelspec": {
   "display_name": "Python 3 (ipykernel)",
   "language": "python",
   "name": "python3"
  },
  "language_info": {
   "codemirror_mode": {
    "name": "ipython",
    "version": 3
   },
   "file_extension": ".py",
   "mimetype": "text/x-python",
   "name": "python",
   "nbconvert_exporter": "python",
   "pygments_lexer": "ipython3",
   "version": "3.10.10"
  }
 },
 "nbformat": 4,
 "nbformat_minor": 5
}
