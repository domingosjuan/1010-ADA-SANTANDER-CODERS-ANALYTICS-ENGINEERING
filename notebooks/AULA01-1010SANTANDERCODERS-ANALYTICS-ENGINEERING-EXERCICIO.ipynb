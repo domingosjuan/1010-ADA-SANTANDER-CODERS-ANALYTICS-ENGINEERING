{
 "cells": [
  {
   "cell_type": "markdown",
   "id": "f7d03464-1f13-474f-a9f5-60e042caa953",
   "metadata": {},
   "source": [
    "## Exercício - Estruturando nossas Camadas Harmonizadas"
   ]
  },
  {
   "cell_type": "markdown",
   "id": "203562e5-7421-4e50-9750-94595deff2e8",
   "metadata": {},
   "source": [
    "**1** - Você faz Parte do time de desenvolvimento de uma grande empresa produtora de grãos no Brasil, e como neste ramo as previsões do tempo são algo muito importante, você deverá utilizar a API do climatempo para ingerir os dados de previsão do tempo para os próximos 15 dias e disponibilizá-los para o time de analytics.\n",
    "\n",
    "As definições da API podem ser encontradas em: https://advisor.climatempo.com.br/\n",
    "\n",
    "Para estruturar sua camada de armazenamento você deverá seguir os seguintes preceitos:\n",
    "\n",
    "- Os dados brutos devrão ser armazenados na camada BRONZE de seu DataLake\n",
    "- Na camada SILVER, você deverá transformar os dados recebidos em JSON em arquivos parquet organizados como tabelas\n",
    "- Na camada BRONZE, você deverá criar uma tabela com arquivos parquet, contendo a média de temperaturar para o período de quinze dias"
   ]
  },
  {
   "cell_type": "code",
   "execution_count": null,
   "id": "b5bdb6d7-bb8e-4848-adb8-a5cd5ff16a70",
   "metadata": {},
   "outputs": [],
   "source": []
  }
 ],
 "metadata": {
  "kernelspec": {
   "display_name": "Python 3 (ipykernel)",
   "language": "python",
   "name": "python3"
  },
  "language_info": {
   "codemirror_mode": {
    "name": "ipython",
    "version": 3
   },
   "file_extension": ".py",
   "mimetype": "text/x-python",
   "name": "python",
   "nbconvert_exporter": "python",
   "pygments_lexer": "ipython3",
   "version": "3.10.10"
  }
 },
 "nbformat": 4,
 "nbformat_minor": 5
}
